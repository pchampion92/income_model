{
 "cells": [
  {
   "cell_type": "markdown",
   "id": "ec76099c",
   "metadata": {},
   "source": [
    "This notebooks contains my analysis of a model to predict revenues of US citizens.\n",
    "\n",
    "Specifically, the models predicts whether a revenue is lower or higher than 50000 US$"
   ]
  },
  {
   "cell_type": "code",
   "execution_count": 1,
   "id": "d46587e1",
   "metadata": {},
   "outputs": [],
   "source": [
    "from pathlib import Path\n",
    "import pandas as pd\n",
    "folder_data=Path('us_census_full')"
   ]
  },
  {
   "cell_type": "code",
   "execution_count": 2,
   "id": "8fbad4a2",
   "metadata": {},
   "outputs": [],
   "source": [
    "df=pd.read_csv(folder_data / \"census_income_learn.csv\",header=None)"
   ]
  },
  {
   "cell_type": "markdown",
   "id": "d0917b8d",
   "metadata": {},
   "source": [
    "The categorical value have been identified before hand. Categorical variables have been labelled as such if their values are not continuous. "
   ]
  },
  {
   "cell_type": "code",
   "execution_count": 3,
   "id": "208a8f7c",
   "metadata": {},
   "outputs": [],
   "source": [
    "columns=pd.read_csv(folder_data/\"column_data.csv\",sep=';')"
   ]
  },
  {
   "cell_type": "code",
   "execution_count": 4,
   "id": "1724e74e",
   "metadata": {},
   "outputs": [],
   "source": [
    "categorical_variables=columns.loc[columns['Type']=='CAT','Column']"
   ]
  },
  {
   "cell_type": "markdown",
   "id": "b99c859d",
   "metadata": {},
   "source": [
    "Name columns according to the dictionnary provided in the census_income_metadata.txt, line 143 to 184. "
   ]
  },
  {
   "cell_type": "code",
   "execution_count": 5,
   "id": "d391a260",
   "metadata": {},
   "outputs": [],
   "source": [
    "df.columns=list(columns['Column'])"
   ]
  },
  {
   "cell_type": "code",
   "execution_count": 6,
   "id": "d3724394",
   "metadata": {},
   "outputs": [],
   "source": [
    "df[categorical_variables]=df[categorical_variables].apply(lambda s:s.astype(object))"
   ]
  },
  {
   "cell_type": "code",
   "execution_count": 125,
   "id": "819a1162",
   "metadata": {},
   "outputs": [
    {
     "data": {
      "text/plain": [
       "age                                             int64\n",
       "class of worker                                object\n",
       "detailed industry recode                       object\n",
       "detailed occupation recode                     object\n",
       "education                                      object\n",
       "wage per hour                                   int64\n",
       "enroll in edu inst last wk                     object\n",
       "marital stat                                   object\n",
       "major industry code                            object\n",
       "major occupation code                          object\n",
       "race                                           object\n",
       "hispanic origin                                object\n",
       "sex                                            object\n",
       "member of a labor union                        object\n",
       "reason for unemployment                        object\n",
       "full or part time employment stat              object\n",
       "capital gains                                   int64\n",
       "capital losses                                  int64\n",
       "dividends from stocks                           int64\n",
       "tax filer stat                                 object\n",
       "region of previous residence                   object\n",
       "state of previous residence                    object\n",
       "detailed household and family stat             object\n",
       "detailed household summary in household        object\n",
       "instance weight                               float64\n",
       "migration code-change in msa                   object\n",
       "migration code-change in reg                   object\n",
       "migration code-move within reg                 object\n",
       "live in this house 1 year ago                  object\n",
       "migration prev res in sunbelt                  object\n",
       "num persons worked for employer                 int64\n",
       "family members under 18                        object\n",
       "country of birth father                        object\n",
       "country of birth mother                        object\n",
       "country of birth self                          object\n",
       "citizenship                                    object\n",
       "own business or self employed                  object\n",
       "fill inc questionnaire for veteran's admin     object\n",
       "veterans benefits                              object\n",
       "weeks worked in year                            int64\n",
       "year                                           object\n",
       "target                                         object\n",
       "dtype: object"
      ]
     },
     "execution_count": 125,
     "metadata": {},
     "output_type": "execute_result"
    }
   ],
   "source": [
    "df.dtypes"
   ]
  },
  {
   "cell_type": "markdown",
   "id": "012244bb",
   "metadata": {},
   "source": [
    "# data exploration "
   ]
  },
  {
   "cell_type": "code",
   "execution_count": 126,
   "id": "5709ceb3",
   "metadata": {},
   "outputs": [
    {
     "data": {
      "text/html": [
       "<div>\n",
       "<style scoped>\n",
       "    .dataframe tbody tr th:only-of-type {\n",
       "        vertical-align: middle;\n",
       "    }\n",
       "\n",
       "    .dataframe tbody tr th {\n",
       "        vertical-align: top;\n",
       "    }\n",
       "\n",
       "    .dataframe thead th {\n",
       "        text-align: right;\n",
       "    }\n",
       "</style>\n",
       "<table border=\"1\" class=\"dataframe\">\n",
       "  <thead>\n",
       "    <tr style=\"text-align: right;\">\n",
       "      <th></th>\n",
       "      <th>age</th>\n",
       "      <th>class of worker</th>\n",
       "      <th>detailed industry recode</th>\n",
       "      <th>detailed occupation recode</th>\n",
       "      <th>education</th>\n",
       "      <th>wage per hour</th>\n",
       "      <th>enroll in edu inst last wk</th>\n",
       "      <th>marital stat</th>\n",
       "      <th>major industry code</th>\n",
       "      <th>major occupation code</th>\n",
       "      <th>...</th>\n",
       "      <th>country of birth father</th>\n",
       "      <th>country of birth mother</th>\n",
       "      <th>country of birth self</th>\n",
       "      <th>citizenship</th>\n",
       "      <th>own business or self employed</th>\n",
       "      <th>fill inc questionnaire for veteran's admin</th>\n",
       "      <th>veterans benefits</th>\n",
       "      <th>weeks worked in year</th>\n",
       "      <th>year</th>\n",
       "      <th>target</th>\n",
       "    </tr>\n",
       "  </thead>\n",
       "  <tbody>\n",
       "    <tr>\n",
       "      <th>0</th>\n",
       "      <td>73</td>\n",
       "      <td>Not in universe</td>\n",
       "      <td>0</td>\n",
       "      <td>0</td>\n",
       "      <td>High school graduate</td>\n",
       "      <td>0</td>\n",
       "      <td>Not in universe</td>\n",
       "      <td>Widowed</td>\n",
       "      <td>Not in universe or children</td>\n",
       "      <td>Not in universe</td>\n",
       "      <td>...</td>\n",
       "      <td>United-States</td>\n",
       "      <td>United-States</td>\n",
       "      <td>United-States</td>\n",
       "      <td>Native- Born in the United States</td>\n",
       "      <td>0</td>\n",
       "      <td>Not in universe</td>\n",
       "      <td>2</td>\n",
       "      <td>0</td>\n",
       "      <td>95</td>\n",
       "      <td>- 50000.</td>\n",
       "    </tr>\n",
       "    <tr>\n",
       "      <th>1</th>\n",
       "      <td>58</td>\n",
       "      <td>Self-employed-not incorporated</td>\n",
       "      <td>4</td>\n",
       "      <td>34</td>\n",
       "      <td>Some college but no degree</td>\n",
       "      <td>0</td>\n",
       "      <td>Not in universe</td>\n",
       "      <td>Divorced</td>\n",
       "      <td>Construction</td>\n",
       "      <td>Precision production craft &amp; repair</td>\n",
       "      <td>...</td>\n",
       "      <td>United-States</td>\n",
       "      <td>United-States</td>\n",
       "      <td>United-States</td>\n",
       "      <td>Native- Born in the United States</td>\n",
       "      <td>0</td>\n",
       "      <td>Not in universe</td>\n",
       "      <td>2</td>\n",
       "      <td>52</td>\n",
       "      <td>94</td>\n",
       "      <td>- 50000.</td>\n",
       "    </tr>\n",
       "    <tr>\n",
       "      <th>2</th>\n",
       "      <td>18</td>\n",
       "      <td>Not in universe</td>\n",
       "      <td>0</td>\n",
       "      <td>0</td>\n",
       "      <td>10th grade</td>\n",
       "      <td>0</td>\n",
       "      <td>High school</td>\n",
       "      <td>Never married</td>\n",
       "      <td>Not in universe or children</td>\n",
       "      <td>Not in universe</td>\n",
       "      <td>...</td>\n",
       "      <td>Vietnam</td>\n",
       "      <td>Vietnam</td>\n",
       "      <td>Vietnam</td>\n",
       "      <td>Foreign born- Not a citizen of U S</td>\n",
       "      <td>0</td>\n",
       "      <td>Not in universe</td>\n",
       "      <td>2</td>\n",
       "      <td>0</td>\n",
       "      <td>95</td>\n",
       "      <td>- 50000.</td>\n",
       "    </tr>\n",
       "    <tr>\n",
       "      <th>3</th>\n",
       "      <td>9</td>\n",
       "      <td>Not in universe</td>\n",
       "      <td>0</td>\n",
       "      <td>0</td>\n",
       "      <td>Children</td>\n",
       "      <td>0</td>\n",
       "      <td>Not in universe</td>\n",
       "      <td>Never married</td>\n",
       "      <td>Not in universe or children</td>\n",
       "      <td>Not in universe</td>\n",
       "      <td>...</td>\n",
       "      <td>United-States</td>\n",
       "      <td>United-States</td>\n",
       "      <td>United-States</td>\n",
       "      <td>Native- Born in the United States</td>\n",
       "      <td>0</td>\n",
       "      <td>Not in universe</td>\n",
       "      <td>0</td>\n",
       "      <td>0</td>\n",
       "      <td>94</td>\n",
       "      <td>- 50000.</td>\n",
       "    </tr>\n",
       "    <tr>\n",
       "      <th>4</th>\n",
       "      <td>10</td>\n",
       "      <td>Not in universe</td>\n",
       "      <td>0</td>\n",
       "      <td>0</td>\n",
       "      <td>Children</td>\n",
       "      <td>0</td>\n",
       "      <td>Not in universe</td>\n",
       "      <td>Never married</td>\n",
       "      <td>Not in universe or children</td>\n",
       "      <td>Not in universe</td>\n",
       "      <td>...</td>\n",
       "      <td>United-States</td>\n",
       "      <td>United-States</td>\n",
       "      <td>United-States</td>\n",
       "      <td>Native- Born in the United States</td>\n",
       "      <td>0</td>\n",
       "      <td>Not in universe</td>\n",
       "      <td>0</td>\n",
       "      <td>0</td>\n",
       "      <td>94</td>\n",
       "      <td>- 50000.</td>\n",
       "    </tr>\n",
       "  </tbody>\n",
       "</table>\n",
       "<p>5 rows × 42 columns</p>\n",
       "</div>"
      ],
      "text/plain": [
       "   age                  class of worker detailed industry recode  \\\n",
       "0   73                  Not in universe                        0   \n",
       "1   58   Self-employed-not incorporated                        4   \n",
       "2   18                  Not in universe                        0   \n",
       "3    9                  Not in universe                        0   \n",
       "4   10                  Not in universe                        0   \n",
       "\n",
       "  detailed occupation recode                    education  wage per hour  \\\n",
       "0                          0         High school graduate              0   \n",
       "1                         34   Some college but no degree              0   \n",
       "2                          0                   10th grade              0   \n",
       "3                          0                     Children              0   \n",
       "4                          0                     Children              0   \n",
       "\n",
       "  enroll in edu inst last wk    marital stat           major industry code  \\\n",
       "0            Not in universe         Widowed   Not in universe or children   \n",
       "1            Not in universe        Divorced                  Construction   \n",
       "2                High school   Never married   Not in universe or children   \n",
       "3            Not in universe   Never married   Not in universe or children   \n",
       "4            Not in universe   Never married   Not in universe or children   \n",
       "\n",
       "                  major occupation code  ... country of birth father  \\\n",
       "0                       Not in universe  ...           United-States   \n",
       "1   Precision production craft & repair  ...           United-States   \n",
       "2                       Not in universe  ...                 Vietnam   \n",
       "3                       Not in universe  ...           United-States   \n",
       "4                       Not in universe  ...           United-States   \n",
       "\n",
       "  country of birth mother country of birth self  \\\n",
       "0           United-States         United-States   \n",
       "1           United-States         United-States   \n",
       "2                 Vietnam               Vietnam   \n",
       "3           United-States         United-States   \n",
       "4           United-States         United-States   \n",
       "\n",
       "                            citizenship own business or self employed  \\\n",
       "0     Native- Born in the United States                             0   \n",
       "1     Native- Born in the United States                             0   \n",
       "2   Foreign born- Not a citizen of U S                              0   \n",
       "3     Native- Born in the United States                             0   \n",
       "4     Native- Born in the United States                             0   \n",
       "\n",
       "  fill inc questionnaire for veteran's admin  veterans benefits  \\\n",
       "0                            Not in universe                  2   \n",
       "1                            Not in universe                  2   \n",
       "2                            Not in universe                  2   \n",
       "3                            Not in universe                  0   \n",
       "4                            Not in universe                  0   \n",
       "\n",
       "   weeks worked in year  year     target  \n",
       "0                     0    95   - 50000.  \n",
       "1                    52    94   - 50000.  \n",
       "2                     0    95   - 50000.  \n",
       "3                     0    94   - 50000.  \n",
       "4                     0    94   - 50000.  \n",
       "\n",
       "[5 rows x 42 columns]"
      ]
     },
     "execution_count": 126,
     "metadata": {},
     "output_type": "execute_result"
    }
   ],
   "source": [
    "df.head()"
   ]
  },
  {
   "cell_type": "markdown",
   "id": "8621129a",
   "metadata": {},
   "source": [
    "# Build variables, target and weights "
   ]
  },
  {
   "cell_type": "code",
   "execution_count": 210,
   "id": "cef92363",
   "metadata": {},
   "outputs": [
    {
     "data": {
      "text/plain": [
       "Index(['age', 'class of worker', 'detailed industry recode',\n",
       "       'detailed occupation recode', 'education', 'wage per hour',\n",
       "       'enroll in edu inst last wk', 'marital stat', 'major industry code',\n",
       "       'major occupation code', 'race', 'hispanic origin', 'sex',\n",
       "       'member of a labor union', 'reason for unemployment',\n",
       "       'full or part time employment stat', 'capital gains', 'capital losses',\n",
       "       'dividends from stocks', 'tax filer stat',\n",
       "       'region of previous residence', 'state of previous residence',\n",
       "       'detailed household and family stat',\n",
       "       'detailed household summary in household', 'instance weight',\n",
       "       'migration code-change in msa', 'migration code-change in reg',\n",
       "       'migration code-move within reg', 'live in this house 1 year ago',\n",
       "       'migration prev res in sunbelt', 'num persons worked for employer',\n",
       "       'family members under 18', 'country of birth father',\n",
       "       'country of birth mother', 'country of birth self', 'citizenship',\n",
       "       'own business or self employed',\n",
       "       'fill inc questionnaire for veteran's admin', 'veterans benefits',\n",
       "       'weeks worked in year', 'year', 'target'],\n",
       "      dtype='object')"
      ]
     },
     "execution_count": 210,
     "metadata": {},
     "output_type": "execute_result"
    }
   ],
   "source": [
    "df.columns"
   ]
  },
  {
   "cell_type": "code",
   "execution_count": 211,
   "id": "be1fb997",
   "metadata": {},
   "outputs": [],
   "source": [
    "test=OrdinalEncoder()\n",
    "columns=df.columns\n",
    "# columns=['class of worker','year','target','wage per hour']\n",
    "category_var=['class of worker','year','target']\n",
    "# category_var=categorical_variables\n",
    "preprocessor = ColumnTransformer([\n",
    "    ('categorical', test, category_var)],\n",
    "    remainder=\"passthrough\")\n",
    "z=pd.DataFrame(data=preprocessor.fit_transform(df[columns]),columns=columns)\n"
   ]
  },
  {
   "cell_type": "code",
   "execution_count": 212,
   "id": "a13abf46",
   "metadata": {},
   "outputs": [
    {
     "data": {
      "text/plain": [
       "0     95983\n",
       "52    70314\n",
       "40     2790\n",
       "50     2304\n",
       "26     2268\n",
       "48     1806\n",
       "12     1780\n",
       "30     1378\n",
       "20     1330\n",
       "8      1126\n",
       "36     1108\n",
       "16      945\n",
       "32      883\n",
       "44      845\n",
       "51      819\n",
       "24      767\n",
       "4       757\n",
       "46      708\n",
       "35      704\n",
       "10      694\n",
       "45      669\n",
       "6       646\n",
       "39      602\n",
       "42      573\n",
       "28      568\n",
       "49      509\n",
       "13      496\n",
       "1       464\n",
       "2       458\n",
       "25      457\n",
       "3       417\n",
       "38      380\n",
       "43      374\n",
       "22      370\n",
       "15      353\n",
       "17      331\n",
       "5       309\n",
       "47      278\n",
       "18      272\n",
       "14      257\n",
       "9       239\n",
       "34      230\n",
       "7       152\n",
       "21      135\n",
       "37      123\n",
       "41       88\n",
       "33       81\n",
       "11       78\n",
       "27       76\n",
       "23       67\n",
       "29       63\n",
       "31       51\n",
       "19       48\n",
       "Name: target, dtype: int64"
      ]
     },
     "execution_count": 212,
     "metadata": {},
     "output_type": "execute_result"
    }
   ],
   "source": [
    "z['target'].value_counts()"
   ]
  },
  {
   "cell_type": "code",
   "execution_count": 183,
   "id": "76a6831b",
   "metadata": {},
   "outputs": [
    {
     "data": {
      "text/plain": [
       "ColumnTransformer(remainder='passthrough',\n",
       "                  transformers=[('categorical',\n",
       "                                 OrdinalEncoder(handle_unknown='use_encoded_value',\n",
       "                                                unknown_value=-1),\n",
       "                                 1                                class of worker\n",
       "2                       detailed industry recode\n",
       "3                     detailed occupation recode\n",
       "4                                      education\n",
       "6                     enroll in edu inst last wk\n",
       "7                                   marital stat\n",
       "8                            major industry code\n",
       "9                          major occupation code\n",
       "10                                          race\n",
       "11                               hispanic origin\n",
       "12                                           sex\n",
       "13                       member of a labor union\n",
       "14                       reason for unemploy...\n",
       "25                  migration code-change in msa\n",
       "26                  migration code-change in reg\n",
       "27                migration code-move within reg\n",
       "28                 live in this house 1 year ago\n",
       "29                 migration prev res in sunbelt\n",
       "31                       family members under 18\n",
       "32                       country of birth father\n",
       "33                       country of birth mother\n",
       "34                         country of birth self\n",
       "35                                   citizenship\n",
       "36                 own business or self employed\n",
       "37    fill inc questionnaire for veteran's admin\n",
       "38                             veterans benefits\n",
       "40                                          year\n",
       "41                                        target\n",
       "Name: Column, dtype: object)])"
      ]
     },
     "execution_count": 183,
     "metadata": {},
     "output_type": "execute_result"
    }
   ],
   "source": [
    "from sklearn.compose import ColumnTransformer\n",
    "from sklearn.preprocessing import OrdinalEncoder\n",
    "\n",
    "# encoder=OrdinalEncoder()\n",
    "encoder = OrdinalEncoder(handle_unknown=\"use_encoded_value\",unknown_value=-1)\n",
    "\n",
    "preprocessor = ColumnTransformer([\n",
    "    ('categorical', encoder, categorical_variables)],\n",
    "    remainder=\"passthrough\")\n",
    "preprocessor.fit(df)"
   ]
  },
  {
   "cell_type": "code",
   "execution_count": 206,
   "id": "65b6dc7f",
   "metadata": {},
   "outputs": [
    {
     "data": {
      "text/plain": [
       " - 50000.    187141\n",
       " 50000+.      12382\n",
       "Name: target, dtype: int64"
      ]
     },
     "execution_count": 206,
     "metadata": {},
     "output_type": "execute_result"
    }
   ],
   "source": [
    "df['target'].value_counts()"
   ]
  },
  {
   "cell_type": "code",
   "execution_count": 185,
   "id": "2225de5f",
   "metadata": {},
   "outputs": [],
   "source": [
    "df_transform=pd.DataFrame(data=preprocessor.transform(df),columns=df.columns)"
   ]
  },
  {
   "cell_type": "code",
   "execution_count": 186,
   "id": "62b5bab8",
   "metadata": {},
   "outputs": [
    {
     "data": {
      "text/plain": [
       "0.0     95983\n",
       "52.0    70314\n",
       "40.0     2790\n",
       "50.0     2304\n",
       "26.0     2268\n",
       "48.0     1806\n",
       "12.0     1780\n",
       "30.0     1378\n",
       "20.0     1330\n",
       "8.0      1126\n",
       "36.0     1108\n",
       "16.0      945\n",
       "32.0      883\n",
       "44.0      845\n",
       "51.0      819\n",
       "24.0      767\n",
       "4.0       757\n",
       "46.0      708\n",
       "35.0      704\n",
       "10.0      694\n",
       "45.0      669\n",
       "6.0       646\n",
       "39.0      602\n",
       "42.0      573\n",
       "28.0      568\n",
       "49.0      509\n",
       "13.0      496\n",
       "1.0       464\n",
       "2.0       458\n",
       "25.0      457\n",
       "3.0       417\n",
       "38.0      380\n",
       "43.0      374\n",
       "22.0      370\n",
       "15.0      353\n",
       "17.0      331\n",
       "5.0       309\n",
       "47.0      278\n",
       "18.0      272\n",
       "14.0      257\n",
       "9.0       239\n",
       "34.0      230\n",
       "7.0       152\n",
       "21.0      135\n",
       "37.0      123\n",
       "41.0       88\n",
       "33.0       81\n",
       "11.0       78\n",
       "27.0       76\n",
       "23.0       67\n",
       "29.0       63\n",
       "31.0       51\n",
       "19.0       48\n",
       "Name: target, dtype: int64"
      ]
     },
     "execution_count": 186,
     "metadata": {},
     "output_type": "execute_result"
    }
   ],
   "source": [
    "df_transform['target'].value_counts()"
   ]
  },
  {
   "cell_type": "code",
   "execution_count": 136,
   "id": "4b56de38",
   "metadata": {},
   "outputs": [],
   "source": [
    "def get_Xyw(df):\n",
    "    X=df[[c for c in df.columns if c not in ['instance weight','target']]]\n",
    "    y=df['target']\n",
    "    w=df['instance weight']\n",
    "    return X,y,w"
   ]
  },
  {
   "cell_type": "code",
   "execution_count": 137,
   "id": "0c8a61cb",
   "metadata": {},
   "outputs": [],
   "source": [
    "X,y,w=get_Xyw(df_transform)"
   ]
  },
  {
   "cell_type": "markdown",
   "id": "e3112092",
   "metadata": {},
   "source": [
    "# Hyper parameter tuning "
   ]
  },
  {
   "cell_type": "markdown",
   "id": "7abf8c63",
   "metadata": {},
   "source": [
    "Stratification is handled in the GridSearchCV object"
   ]
  },
  {
   "cell_type": "code",
   "execution_count": 138,
   "id": "5d0a11c1",
   "metadata": {},
   "outputs": [],
   "source": [
    "from lightgbm import LGBMClassifier"
   ]
  },
  {
   "cell_type": "code",
   "execution_count": 139,
   "id": "0fb0a250",
   "metadata": {},
   "outputs": [],
   "source": [
    "from sklearn.linear_model import LogisticRegression\n",
    "from sklearn.ensemble import HistGradientBoostingClassifier\n",
    "from lightgbm import LGBMClassifier\n",
    "from sklearn.model_selection import GridSearchCV\n",
    "params={\"n_estimators\":[50,100,200],\"max_depth\":[5,10,20]}\n",
    "params={\"max_iter\":[50],\"max_depth\":[3]}\n",
    "\n",
    "gs=GridSearchCV(LGBMClassifier(),param_grid=params,cv=2,verbose=2)"
   ]
  },
  {
   "cell_type": "markdown",
   "id": "8887f89e",
   "metadata": {},
   "source": [
    "Improve metric: imbalanced classes"
   ]
  },
  {
   "cell_type": "code",
   "execution_count": 140,
   "id": "ce5cf0ed",
   "metadata": {},
   "outputs": [
    {
     "name": "stdout",
     "output_type": "stream",
     "text": [
      "Fitting 2 folds for each of 1 candidates, totalling 2 fits\n"
     ]
    },
    {
     "name": "stderr",
     "output_type": "stream",
     "text": [
      "C:\\Users\\pchampion\\AppData\\Local\\Programs\\Python\\Python310\\lib\\site-packages\\lightgbm\\engine.py:177: UserWarning: Found `max_iter` in params. Will use it instead of argument\n",
      "  _log_warning(f\"Found `{alias}` in params. Will use it instead of argument\")\n"
     ]
    },
    {
     "name": "stdout",
     "output_type": "stream",
     "text": [
      "[LightGBM] [Warning] num_iterations is set=50, max_iter=50 will be ignored. Current value: num_iterations=50\n",
      "[CV] END ...........................max_depth=3, max_iter=50; total time=  19.7s\n",
      "[LightGBM] [Warning] num_iterations is set=50, max_iter=50 will be ignored. Current value: num_iterations=50\n"
     ]
    },
    {
     "name": "stderr",
     "output_type": "stream",
     "text": [
      "C:\\Users\\pchampion\\AppData\\Local\\Programs\\Python\\Python310\\lib\\site-packages\\lightgbm\\engine.py:177: UserWarning: Found `max_iter` in params. Will use it instead of argument\n",
      "  _log_warning(f\"Found `{alias}` in params. Will use it instead of argument\")\n"
     ]
    },
    {
     "name": "stdout",
     "output_type": "stream",
     "text": [
      "[CV] END ...........................max_depth=3, max_iter=50; total time=  19.0s\n"
     ]
    },
    {
     "name": "stderr",
     "output_type": "stream",
     "text": [
      "C:\\Users\\pchampion\\AppData\\Local\\Programs\\Python\\Python310\\lib\\site-packages\\lightgbm\\engine.py:177: UserWarning: Found `max_iter` in params. Will use it instead of argument\n",
      "  _log_warning(f\"Found `{alias}` in params. Will use it instead of argument\")\n"
     ]
    },
    {
     "name": "stdout",
     "output_type": "stream",
     "text": [
      "[LightGBM] [Warning] num_iterations is set=50, max_iter=50 will be ignored. Current value: num_iterations=50\n"
     ]
    },
    {
     "data": {
      "text/plain": [
       "GridSearchCV(cv=2, estimator=LGBMClassifier(),\n",
       "             param_grid={'max_depth': [3], 'max_iter': [50]}, verbose=2)"
      ]
     },
     "execution_count": 140,
     "metadata": {},
     "output_type": "execute_result"
    }
   ],
   "source": [
    "gs.fit(X,y,sample_weight=w)"
   ]
  },
  {
   "cell_type": "code",
   "execution_count": 141,
   "id": "a55e5ce9",
   "metadata": {},
   "outputs": [],
   "source": [
    "model=gs.best_estimator_"
   ]
  },
  {
   "cell_type": "code",
   "execution_count": 142,
   "id": "31caa1aa",
   "metadata": {},
   "outputs": [
    {
     "data": {
      "text/plain": [
       "0.7996878456756287"
      ]
     },
     "execution_count": 142,
     "metadata": {},
     "output_type": "execute_result"
    }
   ],
   "source": [
    "model.score(X,y,sample_weight=w)"
   ]
  },
  {
   "cell_type": "code",
   "execution_count": null,
   "id": "677616ce",
   "metadata": {},
   "outputs": [],
   "source": [
    "from sklearn.metrics import RocCurveDisplay,auc"
   ]
  },
  {
   "cell_type": "code",
   "execution_count": null,
   "id": "60ebb4b1",
   "metadata": {},
   "outputs": [],
   "source": [
    "auc()"
   ]
  },
  {
   "cell_type": "markdown",
   "id": "266ec834",
   "metadata": {},
   "source": [
    "# Prediction on test dataset "
   ]
  },
  {
   "cell_type": "code",
   "execution_count": 143,
   "id": "fc1367d1",
   "metadata": {},
   "outputs": [],
   "source": [
    "df_test=pd.read_csv(folder_data / \"census_income_test.csv\",header=None)\n",
    "df_test.columns=df.columns\n",
    "df_test[categorical_variables]=df_test[categorical_variables].apply(lambda s: s.astype('object'))"
   ]
  },
  {
   "cell_type": "code",
   "execution_count": 145,
   "id": "1d2cfe29",
   "metadata": {},
   "outputs": [
    {
     "data": {
      "text/plain": [
       " - 50000.    187141\n",
       " 50000+.      12382\n",
       "Name: target, dtype: int64"
      ]
     },
     "execution_count": 145,
     "metadata": {},
     "output_type": "execute_result"
    }
   ],
   "source": [
    "df['target'].value_counts()"
   ]
  },
  {
   "cell_type": "code",
   "execution_count": 152,
   "id": "fb148213",
   "metadata": {
    "collapsed": true
   },
   "outputs": [
    {
     "data": {
      "text/plain": [
       "array([[4.00000e+00, 6.00000e+00, 3.60000e+01, ..., 1.03238e+03,\n",
       "        4.00000e+00, 1.20000e+01],\n",
       "       [6.00000e+00, 3.70000e+01, 1.20000e+01, ..., 1.46233e+03,\n",
       "        1.00000e+00, 2.60000e+01],\n",
       "       [3.00000e+00, 0.00000e+00, 0.00000e+00, ..., 1.60175e+03,\n",
       "        0.00000e+00, 0.00000e+00],\n",
       "       ...,\n",
       "       [6.00000e+00, 1.00000e+00, 4.30000e+01, ..., 2.08376e+03,\n",
       "        2.00000e+00, 5.20000e+01],\n",
       "       [4.00000e+00, 4.50000e+01, 2.00000e+00, ..., 1.68006e+03,\n",
       "        5.00000e+00, 5.20000e+01],\n",
       "       [3.00000e+00, 0.00000e+00, 0.00000e+00, ..., 1.58248e+03,\n",
       "        0.00000e+00, 0.00000e+00]])"
      ]
     },
     "execution_count": 152,
     "metadata": {},
     "output_type": "execute_result"
    }
   ],
   "source": [
    "preprocessor.transform(df_test)"
   ]
  },
  {
   "cell_type": "code",
   "execution_count": 153,
   "id": "d53e4923",
   "metadata": {},
   "outputs": [],
   "source": [
    "df_test_transform=pd.DataFrame(data=preprocessor.transform(df_test),columns=df_test.columns)"
   ]
  },
  {
   "cell_type": "code",
   "execution_count": 156,
   "id": "d74c1bc4",
   "metadata": {},
   "outputs": [
    {
     "data": {
      "text/plain": [
       "0.0     47889\n",
       "52.0    35052\n",
       "40.0     1362\n",
       "26.0     1125\n",
       "50.0     1110\n",
       "48.0     1010\n",
       "12.0      953\n",
       "20.0      725\n",
       "30.0      725\n",
       "8.0       564\n",
       "36.0      553\n",
       "44.0      459\n",
       "16.0      450\n",
       "32.0      419\n",
       "51.0      413\n",
       "24.0      405\n",
       "10.0      384\n",
       "4.0       361\n",
       "35.0      360\n",
       "45.0      349\n",
       "6.0       315\n",
       "49.0      308\n",
       "46.0      302\n",
       "42.0      299\n",
       "28.0      282\n",
       "13.0      267\n",
       "39.0      260\n",
       "25.0      253\n",
       "1.0       226\n",
       "2.0       209\n",
       "3.0       207\n",
       "15.0      191\n",
       "22.0      190\n",
       "43.0      188\n",
       "38.0      180\n",
       "17.0      151\n",
       "14.0      136\n",
       "18.0      130\n",
       "5.0       127\n",
       "9.0       126\n",
       "47.0      124\n",
       "34.0      116\n",
       "7.0        71\n",
       "37.0       70\n",
       "21.0       60\n",
       "11.0       48\n",
       "33.0       48\n",
       "27.0       41\n",
       "41.0       37\n",
       "23.0       36\n",
       "29.0       35\n",
       "31.0       32\n",
       "19.0       29\n",
       "Name: target, dtype: int64"
      ]
     },
     "execution_count": 156,
     "metadata": {},
     "output_type": "execute_result"
    }
   ],
   "source": [
    "df_test_transform['target'].value_counts()"
   ]
  },
  {
   "cell_type": "code",
   "execution_count": 157,
   "id": "496bb15d",
   "metadata": {},
   "outputs": [],
   "source": [
    "X_test,y_test,w_test=get_Xyw(df_test_transform)"
   ]
  },
  {
   "cell_type": "code",
   "execution_count": 158,
   "id": "e8a92a47",
   "metadata": {},
   "outputs": [
    {
     "data": {
      "text/plain": [
       "0.7943285165227298"
      ]
     },
     "execution_count": 158,
     "metadata": {},
     "output_type": "execute_result"
    }
   ],
   "source": [
    "model.score(X_test,y_test,sample_weight=w_test)"
   ]
  },
  {
   "cell_type": "markdown",
   "id": "31c68a3e",
   "metadata": {},
   "source": [
    "# Synthesis "
   ]
  },
  {
   "cell_type": "markdown",
   "id": "f5236943",
   "metadata": {},
   "source": [
    "Analysis of feature importance\n",
    "Train and test score"
   ]
  }
 ],
 "metadata": {
  "kernelspec": {
   "display_name": "Python 3 (ipykernel)",
   "language": "python",
   "name": "python3"
  },
  "language_info": {
   "codemirror_mode": {
    "name": "ipython",
    "version": 3
   },
   "file_extension": ".py",
   "mimetype": "text/x-python",
   "name": "python",
   "nbconvert_exporter": "python",
   "pygments_lexer": "ipython3",
   "version": "3.10.0"
  },
  "toc": {
   "base_numbering": 1,
   "nav_menu": {},
   "number_sections": true,
   "sideBar": true,
   "skip_h1_title": false,
   "title_cell": "Table of Contents",
   "title_sidebar": "Contents",
   "toc_cell": false,
   "toc_position": {},
   "toc_section_display": true,
   "toc_window_display": false
  }
 },
 "nbformat": 4,
 "nbformat_minor": 5
}
